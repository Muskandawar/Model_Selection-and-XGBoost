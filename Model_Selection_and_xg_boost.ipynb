{
  "nbformat": 4,
  "nbformat_minor": 0,
  "metadata": {
    "colab": {
      "name": "Model_Selection and xg_boost.ipynb",
      "provenance": [],
      "collapsed_sections": []
    },
    "kernelspec": {
      "name": "python3",
      "display_name": "Python 3"
    }
  },
  "cells": [
    {
      "cell_type": "code",
      "metadata": {
        "id": "JSuw3Wts0YLk",
        "colab_type": "code",
        "colab": {}
      },
      "source": [
        "import numpy as np\n",
        "import pandas as pd\n",
        "import matplotlib.pyplot as plt\n",
        "from sklearn.preprocessing import StandardScaler,LabelEncoder,OneHotEncoder\n",
        "from sklearn.model_selection import train_test_split,cross_val_score,GridSearchCV\n",
        "from sklearn.svm import SVC\n",
        "from sklearn.metrics import accuracy_score,confusion_matrix\n",
        "from sklearn.compose import ColumnTransformer\n",
        "import xgboost as xg\n",
        "from xgboost import XGBClassifier\n",
        "from sklearn.linear_model import LogisticRegression\n",
        "from sklearn.ensemble import RandomForestClassifier\n",
        "from sklearn.model_selection import GridSearchCV\n",
        "from sklearn.pipeline import Pipeline\n",
        "from sklearn import datasets\n",
        "\n",
        "# Set random seed\n",
        "np.random.seed(0)"
      ],
      "execution_count": 0,
      "outputs": []
    },
    {
      "cell_type": "markdown",
      "metadata": {
        "id": "d0FiLNKd0w0Z",
        "colab_type": "text"
      },
      "source": [
        "**K-FOLD CROSS VALIDATION**->For evaluating the model better.\n",
        "\n",
        "\n",
        "Generally, linear algorithms have a high bias making them fast to learn and easier to understand but generally less flexible. In turn, they have lower predictive performance on complex problems that fail to meet the simplifying assumptions of the algorithms bias\n",
        "\n",
        "    Low Bias: Suggests less assumptions about the form of the target function.\n",
        "    High-Bias: Suggests more assumptions about the form of the target function.\n",
        "\n",
        "Examples of low-bias machine learning algorithms include: Decision Trees, k-Nearest Neighbors and Support Vector Machines.\n",
        "\n",
        "Examples of high-bias machine learning algorithms include: Linear Regression, Linear Discriminant Analysis and Logistic Regression.\n",
        "\n",
        "\n",
        "    Linear machine learning algorithms often have a high bias but a low variance.\n",
        "    Nonlinear machine learning algorithms often have a low bias but a high variance.\n",
        "\n",
        "Goal->low bias and low var.\n",
        "\n",
        "bias is inv prop to var"
      ]
    },
    {
      "cell_type": "code",
      "metadata": {
        "id": "rJe-u_lH0ui2",
        "colab_type": "code",
        "colab": {}
      },
      "source": [
        "dataset=pd.read_csv('/content/drive/My Drive/Social_Network_Ads.csv')\n",
        "X=dataset.iloc[:,[2,3]].values\n",
        "y=dataset.iloc[:,-1].values"
      ],
      "execution_count": 0,
      "outputs": []
    },
    {
      "cell_type": "code",
      "metadata": {
        "id": "c4NgUxHD3W_k",
        "colab_type": "code",
        "colab": {}
      },
      "source": [
        "X_train,X_test,y_train,y_test=train_test_split(X,y,test_size=0.25,random_state=0)"
      ],
      "execution_count": 0,
      "outputs": []
    },
    {
      "cell_type": "code",
      "metadata": {
        "id": "Cj7j755m3W9i",
        "colab_type": "code",
        "colab": {}
      },
      "source": [
        "sc_X=StandardScaler()\n",
        "X_train=sc_X.fit_transform(X_train)\n",
        "X_test=sc_X.transform(X_test)"
      ],
      "execution_count": 0,
      "outputs": []
    },
    {
      "cell_type": "code",
      "metadata": {
        "id": "U_O7b8ov3W7b",
        "colab_type": "code",
        "colab": {}
      },
      "source": [
        "classifier3=SVC(kernel='rbf',random_state=0) # rbf gives better than linear\n",
        "classifier3.fit(X_train,y_train)"
      ],
      "execution_count": 0,
      "outputs": []
    },
    {
      "cell_type": "code",
      "metadata": {
        "id": "WrA2OGq-3W5H",
        "colab_type": "code",
        "colab": {}
      },
      "source": [
        "y_pred=classifier3.predict(X_test)\n",
        "accuracy_score(y_test,y_pred)"
      ],
      "execution_count": 0,
      "outputs": []
    },
    {
      "cell_type": "code",
      "metadata": {
        "id": "D5wHTdmx3mzS",
        "colab_type": "code",
        "colab": {}
      },
      "source": [
        "accuracies=cross_val_score(estimator=classifier3,X=X_train,y=y_train,cv=10) # if large daatset put n_jobs=-1 i.e to use all cpu's of system"
      ],
      "execution_count": 0,
      "outputs": []
    },
    {
      "cell_type": "code",
      "metadata": {
        "id": "thhS7FCd4zUB",
        "colab_type": "code",
        "colab": {}
      },
      "source": [
        "accuracies.mean()  # relevant eval of model\n",
        "accuracies.std()"
      ],
      "execution_count": 0,
      "outputs": []
    },
    {
      "cell_type": "code",
      "metadata": {
        "id": "tTIvuoy7CmFu",
        "colab_type": "code",
        "colab": {}
      },
      "source": [
        "# grid search\n",
        "parameters=[{'C': [1,10,100,1000],'kernel':['linear']},\n",
        "            {'C': [1,10,100,1000],'kernel':['rbf'],'gamma':[0.1,0.2,0.3,0.4,0.5,0.6,0.7,0.8,0.9]}]\n",
        "grid_search=GridSearchCV(estimator=classifier3,param_grid=parameters,scoring='accuracy',cv=10,n_jobs=-1)\n",
        "grid_search=grid_search.fit(X_train,y_train)"
      ],
      "execution_count": 0,
      "outputs": []
    },
    {
      "cell_type": "code",
      "metadata": {
        "id": "jGyhVIM9EMk2",
        "colab_type": "code",
        "colab": {}
      },
      "source": [
        "best=grid_search.best_score_\n",
        "best_parameters=grid_search.best_params_\n",
        "best_parameters"
      ],
      "execution_count": 0,
      "outputs": []
    },
    {
      "cell_type": "markdown",
      "metadata": {
        "id": "pa1O4cS-JAvF",
        "colab_type": "text"
      },
      "source": [
        "Performing grid search on models"
      ]
    },
    {
      "cell_type": "code",
      "metadata": {
        "id": "hZCcc7meJD3o",
        "colab_type": "code",
        "colab": {}
      },
      "source": [
        "# Load data\n",
        "iris = datasets.load_iris()\n",
        "X = iris.data\n",
        "y = iris.target"
      ],
      "execution_count": 0,
      "outputs": []
    },
    {
      "cell_type": "code",
      "metadata": {
        "id": "jKZAtQVeJD1d",
        "colab_type": "code",
        "colab": {}
      },
      "source": [
        "# Create a pipeline\n",
        "pipe = Pipeline([('classifier', RandomForestClassifier())])\n",
        "\n",
        "# Create space of candidate learning algorithms and their hyperparameters\n",
        "search_space = [{'classifier': [LogisticRegression()],\n",
        "                 'classifier__penalty': ['l1', 'l2'],\n",
        "                 'classifier__C': np.logspace(0, 4, 10)},\n",
        "                {'classifier': [RandomForestClassifier()],\n",
        "                 'classifier__n_estimators': [10, 100, 1000],\n",
        "                 'classifier__max_features': [1, 2, 3]}]"
      ],
      "execution_count": 0,
      "outputs": []
    },
    {
      "cell_type": "code",
      "metadata": {
        "id": "HG2tOq85JDyu",
        "colab_type": "code",
        "colab": {}
      },
      "source": [
        "# Create grid search \n",
        "clf = GridSearchCV(pipe, search_space, cv=5, verbose=0)"
      ],
      "execution_count": 0,
      "outputs": []
    },
    {
      "cell_type": "code",
      "metadata": {
        "id": "Ar5diJvEJnxw",
        "colab_type": "code",
        "colab": {}
      },
      "source": [
        "best_model=clf.fit(X,y)"
      ],
      "execution_count": 0,
      "outputs": []
    },
    {
      "cell_type": "code",
      "metadata": {
        "id": "1DkSEQYQJSU_",
        "colab_type": "code",
        "colab": {
          "base_uri": "https://localhost:8080/",
          "height": 139
        },
        "outputId": "8ab27191-ca9a-4c89-b9f7-95cd0842136a"
      },
      "source": [
        "# View best model\n",
        "best_model.best_estimator_.get_params()['classifier']\n",
        "# Predict target vector\n",
        "best_model.predict(X)"
      ],
      "execution_count": 9,
      "outputs": [
        {
          "output_type": "execute_result",
          "data": {
            "text/plain": [
              "array([0, 0, 0, 0, 0, 0, 0, 0, 0, 0, 0, 0, 0, 0, 0, 0, 0, 0, 0, 0, 0, 0,\n",
              "       0, 0, 0, 0, 0, 0, 0, 0, 0, 0, 0, 0, 0, 0, 0, 0, 0, 0, 0, 0, 0, 0,\n",
              "       0, 0, 0, 0, 0, 0, 1, 1, 1, 1, 1, 1, 1, 1, 1, 1, 1, 1, 1, 1, 1, 1,\n",
              "       1, 1, 1, 1, 2, 1, 1, 1, 1, 1, 1, 1, 1, 1, 1, 1, 1, 2, 1, 1, 1, 1,\n",
              "       1, 1, 1, 1, 1, 1, 1, 1, 1, 1, 1, 1, 2, 2, 2, 2, 2, 2, 2, 2, 2, 2,\n",
              "       2, 2, 2, 2, 2, 2, 2, 2, 2, 2, 2, 2, 2, 2, 2, 2, 2, 2, 2, 2, 2, 2,\n",
              "       2, 1, 2, 2, 2, 2, 2, 2, 2, 2, 2, 2, 2, 2, 2, 2, 2, 2])"
            ]
          },
          "metadata": {
            "tags": []
          },
          "execution_count": 9
        }
      ]
    },
    {
      "cell_type": "markdown",
      "metadata": {
        "id": "xejqDRDoE3x4",
        "colab_type": "text"
      },
      "source": [
        "**XGBOOST**\n",
        "\n",
        "Works best for large dataset.Feature scaling is unnecessary.\n",
        "It has fast exec speed.It has high performance."
      ]
    },
    {
      "cell_type": "code",
      "metadata": {
        "id": "Wv1eCFchFlLV",
        "colab_type": "code",
        "colab": {}
      },
      "source": [
        "dataset=pd.read_csv('/content/drive/My Drive/Churn_Modelling.csv')\n",
        "X=dataset.iloc[:,3:13].values\n",
        "y=dataset.iloc[:,13].values"
      ],
      "execution_count": 0,
      "outputs": []
    },
    {
      "cell_type": "code",
      "metadata": {
        "id": "W_dXM2FsFuAd",
        "colab_type": "code",
        "colab": {}
      },
      "source": [
        "label_encoder_X1 = LabelEncoder()\n",
        "X[:,1] = label_encoder_X1.fit_transform(X[:,1])\n",
        "label_encoder_X2 = LabelEncoder()\n",
        "X[:,2] = label_encoder_X2.fit_transform(X[:,2])\n",
        "onehot_encoder = ColumnTransformer([('Geography', OneHotEncoder(), [1])], remainder='passthrough')\n",
        "X = onehot_encoder.fit_transform(X)"
      ],
      "execution_count": 0,
      "outputs": []
    },
    {
      "cell_type": "code",
      "metadata": {
        "id": "bbLzLKUKGcDC",
        "colab_type": "code",
        "colab": {}
      },
      "source": [
        "X_train,X_test,y_train,y_test=train_test_split(X,y,test_size=0.2,random_state=0)"
      ],
      "execution_count": 0,
      "outputs": []
    },
    {
      "cell_type": "code",
      "metadata": {
        "id": "5FDbSHRJGhzu",
        "colab_type": "code",
        "colab": {}
      },
      "source": [
        "# fitting xgboost\n",
        "classifier=XGBClassifier()\n",
        "classifier.fit(X_train,y_train)"
      ],
      "execution_count": 0,
      "outputs": []
    },
    {
      "cell_type": "code",
      "metadata": {
        "id": "fe-47F-FHZpX",
        "colab_type": "code",
        "colab": {}
      },
      "source": [
        "y_pred=classifier.predict(X_test)"
      ],
      "execution_count": 0,
      "outputs": []
    },
    {
      "cell_type": "code",
      "metadata": {
        "id": "DO5GJNhTHujO",
        "colab_type": "code",
        "outputId": "78f8fa94-328d-4ae2-a459-85ce51d771cb",
        "colab": {
          "base_uri": "https://localhost:8080/",
          "height": 34
        }
      },
      "source": [
        "accuracies=cross_val_score(estimator=classifier,X=X_train,y=y_train,cv=10) # if large daatset put n_jobs=-1 i.e to use all cpu's of system\n",
        "accuracies.mean()  # relevant eval of model\n",
        "accuracies.std()"
      ],
      "execution_count": 0,
      "outputs": [
        {
          "output_type": "execute_result",
          "data": {
            "text/plain": [
              "0.0100971840133772"
            ]
          },
          "metadata": {
            "tags": []
          },
          "execution_count": 45
        }
      ]
    }
  ]
}